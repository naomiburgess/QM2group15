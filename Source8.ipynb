{
  "nbformat": 4,
  "nbformat_minor": 0,
  "metadata": {
    "colab": {
      "name": "Source8.ipynb",
      "provenance": [],
      "authorship_tag": "ABX9TyN/IJy6HQ0Ie5oIUkuA5CwS",
      "include_colab_link": true
    },
    "kernelspec": {
      "name": "python3",
      "display_name": "Python 3"
    }
  },
  "cells": [
    {
      "cell_type": "markdown",
      "metadata": {
        "id": "view-in-github",
        "colab_type": "text"
      },
      "source": [
        "<a href=\"https://colab.research.google.com/github/naomiburgess/QM2group15/blob/main/Source8.ipynb\" target=\"_parent\"><img src=\"https://colab.research.google.com/assets/colab-badge.svg\" alt=\"Open In Colab\"/></a>"
      ]
    },
    {
      "cell_type": "code",
      "metadata": {
        "id": "obSFkp8lWidD"
      },
      "source": [
        "import numpy as np\n",
        "import pandas as pd\n",
        "import matplotlib.pyplot as plt\n",
        "plt.style.use('seaborn')"
      ],
      "execution_count": 191,
      "outputs": []
    },
    {
      "cell_type": "code",
      "metadata": {
        "colab": {
          "base_uri": "https://localhost:8080/",
          "height": 97
        },
        "id": "kxspnSiWXLqS",
        "outputId": "df39316e-cc3e-4c11-c899-17dc86567683"
      },
      "source": [
        "df1 = pd.read_csv('2017-11-city-of-london-street.csv', encoding='latin1')\n",
        "df1 = df1[df1.Location != \"No Location\"]\n",
        "df1.drop(labels=['Crime ID'], axis=1, inplace=True)\n",
        "df1.drop(labels=['LSOA code'], axis=1, inplace=True)\n",
        "df1.drop(labels=['Context'], axis=1, inplace=True)\n",
        "df1.drop(labels=['Last outcome category'], axis=1, inplace=True)\n",
        "df1.drop(labels=['Falls within'], axis=1, inplace=True)\n",
        "df1.drop(labels=['Reported by'], axis=1, inplace=True)\n",
        "df1.drop(df1.index[df1['Crime type'] == 'Anti-social behaviour'], inplace = True)\n",
        "df1.drop(df1.index[df1['Crime type'] == 'Shoplifting'], inplace = True)\n",
        "df1.drop(df1.index[df1['Crime type'] == 'Other theft'], inplace = True)\n",
        "df1.drop(df1.index[df1['Crime type'] == 'Violence and sexual offences'], inplace = True)\n",
        "df1.drop(df1.index[df1['Crime type'] == 'Public order'], inplace = True)\n",
        "df1.drop(df1.index[df1['Crime type'] == 'Criminal damage and arson'], inplace = True)\n",
        "df1.drop(df1.index[df1['Crime type'] == 'Drugs'], inplace = True)\n",
        "df1.drop(df1.index[df1['Crime type'] == 'Other crime'], inplace = True)\n",
        "x=7 # could change x and y to a start and end date\n",
        "y=644 \n",
        "df1.loc[x:y]\n",
        "df1.loc[x:y].index\n",
        "df1.drop(df1.loc[x:y].index, inplace=True)\n",
        "print(\"Size of dataset is : \", df1.shape)\n",
        "df1"
      ],
      "execution_count": 192,
      "outputs": [
        {
          "output_type": "stream",
          "text": [
            "Size of dataset is :  (1, 6)\n"
          ],
          "name": "stdout"
        },
        {
          "output_type": "execute_result",
          "data": {
            "text/html": [
              "<div>\n",
              "<style scoped>\n",
              "    .dataframe tbody tr th:only-of-type {\n",
              "        vertical-align: middle;\n",
              "    }\n",
              "\n",
              "    .dataframe tbody tr th {\n",
              "        vertical-align: top;\n",
              "    }\n",
              "\n",
              "    .dataframe thead th {\n",
              "        text-align: right;\n",
              "    }\n",
              "</style>\n",
              "<table border=\"1\" class=\"dataframe\">\n",
              "  <thead>\n",
              "    <tr style=\"text-align: right;\">\n",
              "      <th></th>\n",
              "      <th>Month</th>\n",
              "      <th>Longitude</th>\n",
              "      <th>Latitude</th>\n",
              "      <th>Location</th>\n",
              "      <th>LSOA name</th>\n",
              "      <th>Crime type</th>\n",
              "    </tr>\n",
              "  </thead>\n",
              "  <tbody>\n",
              "    <tr>\n",
              "      <th>2</th>\n",
              "      <td>2017-11</td>\n",
              "      <td>-0.113256</td>\n",
              "      <td>51.516824</td>\n",
              "      <td>On or near Old Square</td>\n",
              "      <td>Camden 028B</td>\n",
              "      <td>Bicycle theft</td>\n",
              "    </tr>\n",
              "  </tbody>\n",
              "</table>\n",
              "</div>"
            ],
            "text/plain": [
              "     Month  Longitude  ...    LSOA name     Crime type\n",
              "2  2017-11  -0.113256  ...  Camden 028B  Bicycle theft\n",
              "\n",
              "[1 rows x 6 columns]"
            ]
          },
          "metadata": {
            "tags": []
          },
          "execution_count": 192
        }
      ]
    },
    {
      "cell_type": "code",
      "metadata": {
        "colab": {
          "base_uri": "https://localhost:8080/",
          "height": 66
        },
        "id": "A9pih6IimSCZ",
        "outputId": "20baa98a-6ec9-401f-bdc7-6b9b5d4df8ad"
      },
      "source": [
        "df2 = pd.read_csv('2017-12-city-of-london-street.csv', encoding='latin1')\n",
        "df2 = df2[df2.Location != \"No Location\"]\n",
        "df2.drop(labels=['Crime ID'], axis=1, inplace=True)\n",
        "df2.drop(labels=['LSOA code'], axis=1, inplace=True)\n",
        "df2.drop(labels=['Context'], axis=1, inplace=True)\n",
        "df2.drop(labels=['Last outcome category'], axis=1, inplace=True)\n",
        "df2.drop(labels=['Falls within'], axis=1, inplace=True)\n",
        "df2.drop(labels=['Reported by'], axis=1, inplace=True)\n",
        "df2.drop(df2.index[df2['Crime type'] == 'Anti-social behaviour'], inplace = True)\n",
        "df2.drop(df2.index[df2['Crime type'] == 'Shoplifting'], inplace = True)\n",
        "df2.drop(df2.index[df2['Crime type'] == 'Other theft'], inplace = True)\n",
        "df2.drop(df2.index[df2['Crime type'] == 'Violence and sexual offences'], inplace = True)\n",
        "df2.drop(df2.index[df2['Crime type'] == 'Public order'], inplace = True)\n",
        "df2.drop(df2.index[df2['Crime type'] == 'Criminal damage and arson'], inplace = True)\n",
        "df2.drop(df2.index[df2['Crime type'] == 'Drugs'], inplace = True)\n",
        "df2.drop(df2.index[df2['Crime type'] == 'Other crime'], inplace = True)\n",
        "x=7 # could change x and y to a start and end date\n",
        "y=644 \n",
        "df2.loc[x:y]\n",
        "df2.loc[x:y].index\n",
        "df2.drop(df2.loc[x:y].index, inplace=True)\n",
        "df2\n",
        "print(\"Size of dataset is : \", df2.shape)\n",
        "df2"
      ],
      "execution_count": 193,
      "outputs": [
        {
          "output_type": "stream",
          "text": [
            "Size of dataset is :  (0, 6)\n"
          ],
          "name": "stdout"
        },
        {
          "output_type": "execute_result",
          "data": {
            "text/html": [
              "<div>\n",
              "<style scoped>\n",
              "    .dataframe tbody tr th:only-of-type {\n",
              "        vertical-align: middle;\n",
              "    }\n",
              "\n",
              "    .dataframe tbody tr th {\n",
              "        vertical-align: top;\n",
              "    }\n",
              "\n",
              "    .dataframe thead th {\n",
              "        text-align: right;\n",
              "    }\n",
              "</style>\n",
              "<table border=\"1\" class=\"dataframe\">\n",
              "  <thead>\n",
              "    <tr style=\"text-align: right;\">\n",
              "      <th></th>\n",
              "      <th>Month</th>\n",
              "      <th>Longitude</th>\n",
              "      <th>Latitude</th>\n",
              "      <th>Location</th>\n",
              "      <th>LSOA name</th>\n",
              "      <th>Crime type</th>\n",
              "    </tr>\n",
              "  </thead>\n",
              "  <tbody>\n",
              "  </tbody>\n",
              "</table>\n",
              "</div>"
            ],
            "text/plain": [
              "Empty DataFrame\n",
              "Columns: [Month, Longitude, Latitude, Location, LSOA name, Crime type]\n",
              "Index: []"
            ]
          },
          "metadata": {
            "tags": []
          },
          "execution_count": 193
        }
      ]
    },
    {
      "cell_type": "code",
      "metadata": {
        "colab": {
          "base_uri": "https://localhost:8080/",
          "height": 179
        },
        "id": "-H32Scf4mqnL",
        "outputId": "1db9a94d-9dd4-49c2-c852-3c528d5ec4a8"
      },
      "source": [
        "df3 = pd.read_csv('2018-01-city-of-london-street.csv', encoding='latin1')\n",
        "df3 = df3[df3.Location != \"No Location\"]\n",
        "df3.drop(labels=['Crime ID'], axis=1, inplace=True)\n",
        "df3.drop(labels=['LSOA code'], axis=1, inplace=True)\n",
        "df3.drop(labels=['Context'], axis=1, inplace=True)\n",
        "df3.drop(labels=['Last outcome category'], axis=1, inplace=True)\n",
        "df3.drop(labels=['Falls within'], axis=1, inplace=True)\n",
        "df3.drop(labels=['Reported by'], axis=1, inplace=True)\n",
        "df3.drop(df3.index[df3['Crime type'] == 'Anti-social behaviour'], inplace = True)\n",
        "df3.drop(df3.index[df3['Crime type'] == 'Burglary'], inplace = True)\n",
        "df3.drop(df3.index[df3['Crime type'] == 'Shoplifting'], inplace = True)\n",
        "df3.drop(df3.index[df3['Crime type'] == 'Other theft'], inplace = True)\n",
        "df3.drop(df3.index[df3['Crime type'] == 'Violence and sexual offences'], inplace = True)\n",
        "df3.drop(df3.index[df3['Crime type'] == 'Public order'], inplace = True)\n",
        "df3.drop(df3.index[df3['Crime type'] == 'Criminal damage and arson'], inplace = True)\n",
        "df3.drop(df3.index[df3['Crime type'] == 'Drugs'], inplace = True)\n",
        "df3.drop(df3.index[df3['Crime type'] == 'Other crime'], inplace = True)\n",
        "x=6 # could change x and y to a start and end date\n",
        "y=661\n",
        "df3.loc[x:y]\n",
        "df3.loc[x:y].index\n",
        "df3.drop(df3.loc[x:y].index, inplace=True)\n",
        "print(\"Size of dataset is : \", df3.shape)\n",
        "df3"
      ],
      "execution_count": 194,
      "outputs": [
        {
          "output_type": "stream",
          "text": [
            "Size of dataset is :  (2, 6)\n"
          ],
          "name": "stdout"
        },
        {
          "output_type": "execute_result",
          "data": {
            "text/html": [
              "<div>\n",
              "<style scoped>\n",
              "    .dataframe tbody tr th:only-of-type {\n",
              "        vertical-align: middle;\n",
              "    }\n",
              "\n",
              "    .dataframe tbody tr th {\n",
              "        vertical-align: top;\n",
              "    }\n",
              "\n",
              "    .dataframe thead th {\n",
              "        text-align: right;\n",
              "    }\n",
              "</style>\n",
              "<table border=\"1\" class=\"dataframe\">\n",
              "  <thead>\n",
              "    <tr style=\"text-align: right;\">\n",
              "      <th></th>\n",
              "      <th>Month</th>\n",
              "      <th>Longitude</th>\n",
              "      <th>Latitude</th>\n",
              "      <th>Location</th>\n",
              "      <th>LSOA name</th>\n",
              "      <th>Crime type</th>\n",
              "    </tr>\n",
              "  </thead>\n",
              "  <tbody>\n",
              "    <tr>\n",
              "      <th>4</th>\n",
              "      <td>2018-01</td>\n",
              "      <td>-0.111962</td>\n",
              "      <td>51.518494</td>\n",
              "      <td>On or near Nightclub</td>\n",
              "      <td>Camden 028B</td>\n",
              "      <td>Theft from the person</td>\n",
              "    </tr>\n",
              "    <tr>\n",
              "      <th>5</th>\n",
              "      <td>2018-01</td>\n",
              "      <td>-0.111497</td>\n",
              "      <td>51.518226</td>\n",
              "      <td>On or near Pedestrian Subway</td>\n",
              "      <td>Camden 028B</td>\n",
              "      <td>Theft from the person</td>\n",
              "    </tr>\n",
              "  </tbody>\n",
              "</table>\n",
              "</div>"
            ],
            "text/plain": [
              "     Month  Longitude  ...    LSOA name             Crime type\n",
              "4  2018-01  -0.111962  ...  Camden 028B  Theft from the person\n",
              "5  2018-01  -0.111497  ...  Camden 028B  Theft from the person\n",
              "\n",
              "[2 rows x 6 columns]"
            ]
          },
          "metadata": {
            "tags": []
          },
          "execution_count": 194
        }
      ]
    },
    {
      "cell_type": "code",
      "metadata": {
        "colab": {
          "base_uri": "https://localhost:8080/",
          "height": 131
        },
        "id": "y9s9_KdKnxsz",
        "outputId": "033699ec-116b-4d50-f947-313276f82cb1"
      },
      "source": [
        "df4 = pd.read_csv('2018-03-city-of-london-street.csv', encoding='latin1')\n",
        "df4 = df4[df4.Location != \"No Location\"]\n",
        "df4.drop(labels=['Crime ID'], axis=1, inplace=True)\n",
        "df4.drop(labels=['LSOA code'], axis=1, inplace=True)\n",
        "df4.drop(labels=['Context'], axis=1, inplace=True)\n",
        "df4.drop(labels=['Last outcome category'], axis=1, inplace=True)\n",
        "df4.drop(labels=['Falls within'], axis=1, inplace=True)\n",
        "df4.drop(labels=['Reported by'], axis=1, inplace=True)\n",
        "df4.drop(df4.index[df4['Crime type'] == 'Anti-social behaviour'], inplace = True)\n",
        "df4.drop(df4.index[df4['Crime type'] == 'Burglary'], inplace = True)\n",
        "df4.drop(df4.index[df4['Crime type'] == 'Shoplifting'], inplace = True)\n",
        "df4.drop(df4.index[df4['Crime type'] == 'Other theft'], inplace = True)\n",
        "df4.drop(df4.index[df4['Crime type'] == 'Violence and sexual offences'], inplace = True)\n",
        "df4.drop(df4.index[df4['Crime type'] == 'Public order'], inplace = True)\n",
        "df4.drop(df4.index[df4['Crime type'] == 'Criminal damage and arson'], inplace = True)\n",
        "df4.drop(df4.index[df4['Crime type'] == 'Drugs'], inplace = True)\n",
        "df4.drop(df4.index[df4['Crime type'] == 'Other crime'], inplace = True)\n",
        "x=5 # could change x and y to a start and end date\n",
        "y=664\n",
        "df4.loc[x:y]\n",
        "df4.loc[x:y].index\n",
        "df4.drop(df4.loc[x:y].index, inplace=True)\n",
        "print(\"Size of dataset is : \", df4.shape)\n",
        "df4"
      ],
      "execution_count": 195,
      "outputs": [
        {
          "output_type": "stream",
          "text": [
            "Size of dataset is :  (1, 6)\n"
          ],
          "name": "stdout"
        },
        {
          "output_type": "execute_result",
          "data": {
            "text/html": [
              "<div>\n",
              "<style scoped>\n",
              "    .dataframe tbody tr th:only-of-type {\n",
              "        vertical-align: middle;\n",
              "    }\n",
              "\n",
              "    .dataframe tbody tr th {\n",
              "        vertical-align: top;\n",
              "    }\n",
              "\n",
              "    .dataframe thead th {\n",
              "        text-align: right;\n",
              "    }\n",
              "</style>\n",
              "<table border=\"1\" class=\"dataframe\">\n",
              "  <thead>\n",
              "    <tr style=\"text-align: right;\">\n",
              "      <th></th>\n",
              "      <th>Month</th>\n",
              "      <th>Longitude</th>\n",
              "      <th>Latitude</th>\n",
              "      <th>Location</th>\n",
              "      <th>LSOA name</th>\n",
              "      <th>Crime type</th>\n",
              "    </tr>\n",
              "  </thead>\n",
              "  <tbody>\n",
              "    <tr>\n",
              "      <th>2</th>\n",
              "      <td>2018-03</td>\n",
              "      <td>-0.111497</td>\n",
              "      <td>51.518226</td>\n",
              "      <td>On or near Pedestrian Subway</td>\n",
              "      <td>Camden 028B</td>\n",
              "      <td>Theft from the person</td>\n",
              "    </tr>\n",
              "  </tbody>\n",
              "</table>\n",
              "</div>"
            ],
            "text/plain": [
              "     Month  Longitude  ...    LSOA name             Crime type\n",
              "2  2018-03  -0.111497  ...  Camden 028B  Theft from the person\n",
              "\n",
              "[1 rows x 6 columns]"
            ]
          },
          "metadata": {
            "tags": []
          },
          "execution_count": 195
        }
      ]
    },
    {
      "cell_type": "code",
      "metadata": {
        "colab": {
          "base_uri": "https://localhost:8080/",
          "height": 131
        },
        "id": "yV0BENEhwG8C",
        "outputId": "136b3b65-7b30-4e42-ba2a-3c1f59c6908b"
      },
      "source": [
        "df5 = pd.read_csv('2018-10-city-of-london-street.csv', encoding='latin1')\n",
        "df5 = df5[df5.Location != \"No Location\"]\n",
        "df5.drop(labels=['Crime ID'], axis=1, inplace=True)\n",
        "df5.drop(labels=['LSOA code'], axis=1, inplace=True)\n",
        "df5.drop(labels=['Context'], axis=1, inplace=True)\n",
        "df5.drop(labels=['Last outcome category'], axis=1, inplace=True)\n",
        "df5.drop(labels=['Falls within'], axis=1, inplace=True)\n",
        "df5.drop(labels=['Reported by'], axis=1, inplace=True)\n",
        "df5.drop(df5.index[df5['Crime type'] == 'Anti-social behaviour'], inplace = True)\n",
        "df5.drop(df5.index[df5['Crime type'] == 'Burglary'], inplace = True)\n",
        "df5.drop(df5.index[df5['Crime type'] == 'Shoplifting'], inplace = True)\n",
        "df5.drop(df5.index[df5['Crime type'] == 'Other theft'], inplace = True)\n",
        "df5.drop(df5.index[df5['Crime type'] == 'Violence and sexual offences'], inplace = True)\n",
        "df5.drop(df5.index[df5['Crime type'] == 'Public order'], inplace = True)\n",
        "df5.drop(df5.index[df5['Crime type'] == 'Criminal damage and arson'], inplace = True)\n",
        "df5.drop(df5.index[df5['Crime type'] == 'Drugs'], inplace = True)\n",
        "df5.drop(df5.index[df5['Crime type'] == 'Other crime'], inplace = True)\n",
        "x=3 # could change x and y to a start and end date\n",
        "y=714\n",
        "df5.loc[x:y]\n",
        "df5.loc[x:y].index\n",
        "df5.drop(df5.loc[x:y].index, inplace=True)\n",
        "print(\"Size of dataset is : \", df5.shape)\n",
        "df5"
      ],
      "execution_count": 196,
      "outputs": [
        {
          "output_type": "stream",
          "text": [
            "Size of dataset is :  (1, 6)\n"
          ],
          "name": "stdout"
        },
        {
          "output_type": "execute_result",
          "data": {
            "text/html": [
              "<div>\n",
              "<style scoped>\n",
              "    .dataframe tbody tr th:only-of-type {\n",
              "        vertical-align: middle;\n",
              "    }\n",
              "\n",
              "    .dataframe tbody tr th {\n",
              "        vertical-align: top;\n",
              "    }\n",
              "\n",
              "    .dataframe thead th {\n",
              "        text-align: right;\n",
              "    }\n",
              "</style>\n",
              "<table border=\"1\" class=\"dataframe\">\n",
              "  <thead>\n",
              "    <tr style=\"text-align: right;\">\n",
              "      <th></th>\n",
              "      <th>Month</th>\n",
              "      <th>Longitude</th>\n",
              "      <th>Latitude</th>\n",
              "      <th>Location</th>\n",
              "      <th>LSOA name</th>\n",
              "      <th>Crime type</th>\n",
              "    </tr>\n",
              "  </thead>\n",
              "  <tbody>\n",
              "    <tr>\n",
              "      <th>0</th>\n",
              "      <td>2018-10</td>\n",
              "      <td>-0.111497</td>\n",
              "      <td>51.518226</td>\n",
              "      <td>On or near Pedestrian Subway</td>\n",
              "      <td>Camden 028B</td>\n",
              "      <td>Bicycle theft</td>\n",
              "    </tr>\n",
              "  </tbody>\n",
              "</table>\n",
              "</div>"
            ],
            "text/plain": [
              "     Month  Longitude  ...    LSOA name     Crime type\n",
              "0  2018-10  -0.111497  ...  Camden 028B  Bicycle theft\n",
              "\n",
              "[1 rows x 6 columns]"
            ]
          },
          "metadata": {
            "tags": []
          },
          "execution_count": 196
        }
      ]
    },
    {
      "cell_type": "code",
      "metadata": {
        "colab": {
          "base_uri": "https://localhost:8080/",
          "height": 97
        },
        "id": "9nR0WLENwxI0",
        "outputId": "7039911c-9490-414f-b7c4-cb35394f5b03"
      },
      "source": [
        "df6 = pd.read_csv('2019-01-city-of-london-street.csv', encoding='latin1')\n",
        "df6 = df6[df6.Location != \"No Location\"]\n",
        "df6.drop(labels=['Crime ID'], axis=1, inplace=True)\n",
        "df6.drop(labels=['LSOA code'], axis=1, inplace=True)\n",
        "df6.drop(labels=['Context'], axis=1, inplace=True)\n",
        "df6.drop(labels=['Last outcome category'], axis=1, inplace=True)\n",
        "df6.drop(labels=['Falls within'], axis=1, inplace=True)\n",
        "df6.drop(labels=['Reported by'], axis=1, inplace=True)\n",
        "df6.drop(df6.index[df6['Crime type'] == 'Anti-social behaviour'], inplace = True)\n",
        "df6.drop(df6.index[df6['Crime type'] == 'Burglary'], inplace = True)\n",
        "df6.drop(df6.index[df6['Crime type'] == 'Shoplifting'], inplace = True)\n",
        "df6.drop(df6.index[df6['Crime type'] == 'Other theft'], inplace = True)\n",
        "df6.drop(df6.index[df6['Crime type'] == 'Violence and sexual offences'], inplace = True)\n",
        "df6.drop(df6.index[df6['Crime type'] == 'Public order'], inplace = True)\n",
        "df6.drop(df6.index[df6['Crime type'] == 'Criminal damage and arson'], inplace = True)\n",
        "df6.drop(df6.index[df6['Crime type'] == 'Drugs'], inplace = True)\n",
        "df6.drop(df6.index[df6['Crime type'] == 'Other crime'], inplace = True)\n",
        "x=3 # could change x and y to a start and end date\n",
        "y=661\n",
        "df6.loc[x:y]\n",
        "df6.loc[x:y].index\n",
        "df6.drop(df6.loc[x:y].index, inplace=True)\n",
        "print(\"Size of dataset is : \", df6.shape)\n",
        "df6"
      ],
      "execution_count": 197,
      "outputs": [
        {
          "output_type": "stream",
          "text": [
            "Size of dataset is :  (1, 6)\n"
          ],
          "name": "stdout"
        },
        {
          "output_type": "execute_result",
          "data": {
            "text/html": [
              "<div>\n",
              "<style scoped>\n",
              "    .dataframe tbody tr th:only-of-type {\n",
              "        vertical-align: middle;\n",
              "    }\n",
              "\n",
              "    .dataframe tbody tr th {\n",
              "        vertical-align: top;\n",
              "    }\n",
              "\n",
              "    .dataframe thead th {\n",
              "        text-align: right;\n",
              "    }\n",
              "</style>\n",
              "<table border=\"1\" class=\"dataframe\">\n",
              "  <thead>\n",
              "    <tr style=\"text-align: right;\">\n",
              "      <th></th>\n",
              "      <th>Month</th>\n",
              "      <th>Longitude</th>\n",
              "      <th>Latitude</th>\n",
              "      <th>Location</th>\n",
              "      <th>LSOA name</th>\n",
              "      <th>Crime type</th>\n",
              "    </tr>\n",
              "  </thead>\n",
              "  <tbody>\n",
              "    <tr>\n",
              "      <th>1</th>\n",
              "      <td>2019-01</td>\n",
              "      <td>-0.112422</td>\n",
              "      <td>51.515381</td>\n",
              "      <td>On or near Star Yard</td>\n",
              "      <td>Camden 028B</td>\n",
              "      <td>Bicycle theft</td>\n",
              "    </tr>\n",
              "  </tbody>\n",
              "</table>\n",
              "</div>"
            ],
            "text/plain": [
              "     Month  Longitude  ...    LSOA name     Crime type\n",
              "1  2019-01  -0.112422  ...  Camden 028B  Bicycle theft\n",
              "\n",
              "[1 rows x 6 columns]"
            ]
          },
          "metadata": {
            "tags": []
          },
          "execution_count": 197
        }
      ]
    },
    {
      "cell_type": "code",
      "metadata": {
        "colab": {
          "base_uri": "https://localhost:8080/",
          "height": 114
        },
        "id": "XQ_nxdIvxIc2",
        "outputId": "55c210c2-4a39-42f3-b308-1f35aa84ce4a"
      },
      "source": [
        "df7 = pd.read_csv('2019-03-city-of-london-street.csv', encoding='latin1')\n",
        "df7 = df7[df7.Location != \"No Location\"]\n",
        "df7.drop(labels=['Crime ID'], axis=1, inplace=True)\n",
        "df7.drop(labels=['LSOA code'], axis=1, inplace=True)\n",
        "df7.drop(labels=['Context'], axis=1, inplace=True)\n",
        "df7.drop(labels=['Last outcome category'], axis=1, inplace=True)\n",
        "df7.drop(labels=['Falls within'], axis=1, inplace=True)\n",
        "df7.drop(labels=['Reported by'], axis=1, inplace=True)\n",
        "df7.drop(df7.index[df7['Crime type'] == 'Anti-social behaviour'], inplace = True)\n",
        "df7.drop(df7.index[df7['Crime type'] == 'Burglary'], inplace = True)\n",
        "df7.drop(df7.index[df7['Crime type'] == 'Shoplifting'], inplace = True)\n",
        "df7.drop(df7.index[df7['Crime type'] == 'Other theft'], inplace = True)\n",
        "df7.drop(df7.index[df7['Crime type'] == 'Violence and sexual offences'], inplace = True)\n",
        "df7.drop(df7.index[df7['Crime type'] == 'Public order'], inplace = True)\n",
        "df7.drop(df7.index[df7['Crime type'] == 'Criminal damage and arson'], inplace = True)\n",
        "df7.drop(df7.index[df7['Crime type'] == 'Drugs'], inplace = True)\n",
        "df7.drop(df7.index[df7['Crime type'] == 'Other crime'], inplace = True)\n",
        "x=5 # could change x and y to a start and end date\n",
        "y=821\n",
        "df7.loc[x:y]\n",
        "df7.loc[x:y].index\n",
        "df7.drop(df7.loc[x:y].index, inplace=True)\n",
        "print(\"Size of dataset is : \", df7.shape)\n",
        "df7"
      ],
      "execution_count": 198,
      "outputs": [
        {
          "output_type": "stream",
          "text": [
            "Size of dataset is :  (1, 6)\n"
          ],
          "name": "stdout"
        },
        {
          "output_type": "execute_result",
          "data": {
            "text/html": [
              "<div>\n",
              "<style scoped>\n",
              "    .dataframe tbody tr th:only-of-type {\n",
              "        vertical-align: middle;\n",
              "    }\n",
              "\n",
              "    .dataframe tbody tr th {\n",
              "        vertical-align: top;\n",
              "    }\n",
              "\n",
              "    .dataframe thead th {\n",
              "        text-align: right;\n",
              "    }\n",
              "</style>\n",
              "<table border=\"1\" class=\"dataframe\">\n",
              "  <thead>\n",
              "    <tr style=\"text-align: right;\">\n",
              "      <th></th>\n",
              "      <th>Month</th>\n",
              "      <th>Longitude</th>\n",
              "      <th>Latitude</th>\n",
              "      <th>Location</th>\n",
              "      <th>LSOA name</th>\n",
              "      <th>Crime type</th>\n",
              "    </tr>\n",
              "  </thead>\n",
              "  <tbody>\n",
              "    <tr>\n",
              "      <th>3</th>\n",
              "      <td>2019-03</td>\n",
              "      <td>-0.111962</td>\n",
              "      <td>51.518494</td>\n",
              "      <td>On or near Nightclub</td>\n",
              "      <td>Camden 028B</td>\n",
              "      <td>Theft from the person</td>\n",
              "    </tr>\n",
              "  </tbody>\n",
              "</table>\n",
              "</div>"
            ],
            "text/plain": [
              "     Month  Longitude  ...    LSOA name             Crime type\n",
              "3  2019-03  -0.111962  ...  Camden 028B  Theft from the person\n",
              "\n",
              "[1 rows x 6 columns]"
            ]
          },
          "metadata": {
            "tags": []
          },
          "execution_count": 198
        }
      ]
    },
    {
      "cell_type": "code",
      "metadata": {
        "colab": {
          "base_uri": "https://localhost:8080/",
          "height": 162
        },
        "id": "0d8A1a1LxfDj",
        "outputId": "02f1e09c-7d89-411e-8e7f-348b600b8f89"
      },
      "source": [
        "df8 = pd.read_csv('2019-08-city-of-london-street.csv', encoding='latin1')\n",
        "df8 = df8[df8.Location != \"No Location\"]\n",
        "df8.drop(labels=['Crime ID'], axis=1, inplace=True)\n",
        "df8.drop(labels=['LSOA code'], axis=1, inplace=True)\n",
        "df8.drop(labels=['Context'], axis=1, inplace=True)\n",
        "df8.drop(labels=['Last outcome category'], axis=1, inplace=True)\n",
        "df8.drop(labels=['Falls within'], axis=1, inplace=True)\n",
        "df8.drop(labels=['Reported by'], axis=1, inplace=True)\n",
        "df8.drop(df8.index[df8['Crime type'] == 'Anti-social behaviour'], inplace = True)\n",
        "df8.drop(df8.index[df8['Crime type'] == 'Burglary'], inplace = True)\n",
        "df8.drop(df8.index[df8['Crime type'] == 'Shoplifting'], inplace = True)\n",
        "df8.drop(df8.index[df8['Crime type'] == 'Other theft'], inplace = True)\n",
        "df8.drop(df8.index[df8['Crime type'] == 'Violence and sexual offences'], inplace = True)\n",
        "df8.drop(df8.index[df8['Crime type'] == 'Public order'], inplace = True)\n",
        "df8.drop(df8.index[df8['Crime type'] == 'Criminal damage and arson'], inplace = True)\n",
        "df8.drop(df8.index[df8['Crime type'] == 'Drugs'], inplace = True)\n",
        "df8.drop(df8.index[df8['Crime type'] == 'Other crime'], inplace = True)\n",
        "x=6 # could change x and y to a start and end date\n",
        "y=901\n",
        "df8.loc[x:y]\n",
        "df8.loc[x:y].index\n",
        "df8.drop(df8.loc[x:y].index, inplace=True)\n",
        "print(\"Size of dataset is : \", df8.shape)\n",
        "df8"
      ],
      "execution_count": 199,
      "outputs": [
        {
          "output_type": "stream",
          "text": [
            "Size of dataset is :  (2, 6)\n"
          ],
          "name": "stdout"
        },
        {
          "output_type": "execute_result",
          "data": {
            "text/html": [
              "<div>\n",
              "<style scoped>\n",
              "    .dataframe tbody tr th:only-of-type {\n",
              "        vertical-align: middle;\n",
              "    }\n",
              "\n",
              "    .dataframe tbody tr th {\n",
              "        vertical-align: top;\n",
              "    }\n",
              "\n",
              "    .dataframe thead th {\n",
              "        text-align: right;\n",
              "    }\n",
              "</style>\n",
              "<table border=\"1\" class=\"dataframe\">\n",
              "  <thead>\n",
              "    <tr style=\"text-align: right;\">\n",
              "      <th></th>\n",
              "      <th>Month</th>\n",
              "      <th>Longitude</th>\n",
              "      <th>Latitude</th>\n",
              "      <th>Location</th>\n",
              "      <th>LSOA name</th>\n",
              "      <th>Crime type</th>\n",
              "    </tr>\n",
              "  </thead>\n",
              "  <tbody>\n",
              "    <tr>\n",
              "      <th>2</th>\n",
              "      <td>2019-08</td>\n",
              "      <td>-0.125261</td>\n",
              "      <td>51.521063</td>\n",
              "      <td>On or near Russell Square</td>\n",
              "      <td>Camden 028A</td>\n",
              "      <td>Theft from the person</td>\n",
              "    </tr>\n",
              "    <tr>\n",
              "      <th>4</th>\n",
              "      <td>2019-08</td>\n",
              "      <td>-0.111962</td>\n",
              "      <td>51.518494</td>\n",
              "      <td>On or near Nightclub</td>\n",
              "      <td>Camden 028B</td>\n",
              "      <td>Bicycle theft</td>\n",
              "    </tr>\n",
              "  </tbody>\n",
              "</table>\n",
              "</div>"
            ],
            "text/plain": [
              "     Month  Longitude  ...    LSOA name             Crime type\n",
              "2  2019-08  -0.125261  ...  Camden 028A  Theft from the person\n",
              "4  2019-08  -0.111962  ...  Camden 028B          Bicycle theft\n",
              "\n",
              "[2 rows x 6 columns]"
            ]
          },
          "metadata": {
            "tags": []
          },
          "execution_count": 199
        }
      ]
    },
    {
      "cell_type": "code",
      "metadata": {
        "colab": {
          "base_uri": "https://localhost:8080/",
          "height": 114
        },
        "id": "81XA1OmeyAEM",
        "outputId": "c1470ecc-afcb-4e62-d789-2ab93a8c1036"
      },
      "source": [
        "df9 = pd.read_csv('2019-09-city-of-london-street.csv', encoding='latin1')\n",
        "df9 = df9[df9.Location != \"No Location\"]\n",
        "df9.drop(labels=['Crime ID'], axis=1, inplace=True)\n",
        "df9.drop(labels=['LSOA code'], axis=1, inplace=True)\n",
        "df9.drop(labels=['Context'], axis=1, inplace=True)\n",
        "df9.drop(labels=['Last outcome category'], axis=1, inplace=True)\n",
        "df9.drop(labels=['Falls within'], axis=1, inplace=True)\n",
        "df9.drop(labels=['Reported by'], axis=1, inplace=True)\n",
        "df9.drop(df9.index[df9['Crime type'] == 'Anti-social behaviour'], inplace = True)\n",
        "df9.drop(df9.index[df9['Crime type'] == 'Burglary'], inplace = True)\n",
        "df9.drop(df9.index[df9['Crime type'] == 'Shoplifting'], inplace = True)\n",
        "df9.drop(df9.index[df9['Crime type'] == 'Other theft'], inplace = True)\n",
        "df9.drop(df9.index[df9['Crime type'] == 'Violence and sexual offences'], inplace = True)\n",
        "df9.drop(df9.index[df9['Crime type'] == 'Public order'], inplace = True)\n",
        "df9.drop(df9.index[df9['Crime type'] == 'Criminal damage and arson'], inplace = True)\n",
        "df9.drop(df9.index[df9['Crime type'] == 'Drugs'], inplace = True)\n",
        "df9.drop(df9.index[df9['Crime type'] == 'Other crime'], inplace = True)\n",
        "x=4 # could change x and y to a start and end date\n",
        "y=853\n",
        "df9.loc[x:y]\n",
        "df9.loc[x:y].index\n",
        "df9.drop(df9.loc[x:y].index, inplace=True)\n",
        "print(\"Size of dataset is : \", df9.shape)\n",
        "df9"
      ],
      "execution_count": 200,
      "outputs": [
        {
          "output_type": "stream",
          "text": [
            "Size of dataset is :  (1, 6)\n"
          ],
          "name": "stdout"
        },
        {
          "output_type": "execute_result",
          "data": {
            "text/html": [
              "<div>\n",
              "<style scoped>\n",
              "    .dataframe tbody tr th:only-of-type {\n",
              "        vertical-align: middle;\n",
              "    }\n",
              "\n",
              "    .dataframe tbody tr th {\n",
              "        vertical-align: top;\n",
              "    }\n",
              "\n",
              "    .dataframe thead th {\n",
              "        text-align: right;\n",
              "    }\n",
              "</style>\n",
              "<table border=\"1\" class=\"dataframe\">\n",
              "  <thead>\n",
              "    <tr style=\"text-align: right;\">\n",
              "      <th></th>\n",
              "      <th>Month</th>\n",
              "      <th>Longitude</th>\n",
              "      <th>Latitude</th>\n",
              "      <th>Location</th>\n",
              "      <th>LSOA name</th>\n",
              "      <th>Crime type</th>\n",
              "    </tr>\n",
              "  </thead>\n",
              "  <tbody>\n",
              "    <tr>\n",
              "      <th>3</th>\n",
              "      <td>2019-09</td>\n",
              "      <td>-0.111962</td>\n",
              "      <td>51.518494</td>\n",
              "      <td>On or near Nightclub</td>\n",
              "      <td>Camden 028B</td>\n",
              "      <td>Theft from the person</td>\n",
              "    </tr>\n",
              "  </tbody>\n",
              "</table>\n",
              "</div>"
            ],
            "text/plain": [
              "     Month  Longitude  ...    LSOA name             Crime type\n",
              "3  2019-09  -0.111962  ...  Camden 028B  Theft from the person\n",
              "\n",
              "[1 rows x 6 columns]"
            ]
          },
          "metadata": {
            "tags": []
          },
          "execution_count": 200
        }
      ]
    },
    {
      "cell_type": "code",
      "metadata": {
        "colab": {
          "base_uri": "https://localhost:8080/",
          "height": 114
        },
        "id": "jenO1ziryLHA",
        "outputId": "1194b8f3-d918-4134-dcbd-1676f8c2d70a"
      },
      "source": [
        "df10 = pd.read_csv('2019-11-city-of-london-street.csv', encoding='latin1')\n",
        "df10 = df10[df10.Location != \"No Location\"]\n",
        "df10.drop(labels=['Crime ID'], axis=1, inplace=True)\n",
        "df10.drop(labels=['LSOA code'], axis=1, inplace=True)\n",
        "df10.drop(labels=['Context'], axis=1, inplace=True)\n",
        "df10.drop(labels=['Last outcome category'], axis=1, inplace=True)\n",
        "df10.drop(labels=['Falls within'], axis=1, inplace=True)\n",
        "df10.drop(labels=['Reported by'], axis=1, inplace=True)\n",
        "df10.drop(df10.index[df10['Crime type'] == 'Anti-social behaviour'], inplace = True)\n",
        "df10.drop(df10.index[df10['Crime type'] == 'Burglary'], inplace = True)\n",
        "df10.drop(df10.index[df10['Crime type'] == 'Shoplifting'], inplace = True)\n",
        "df10.drop(df10.index[df10['Crime type'] == 'Other theft'], inplace = True)\n",
        "df10.drop(df10.index[df10['Crime type'] == 'Violence and sexual offences'], inplace = True)\n",
        "df10.drop(df10.index[df10['Crime type'] == 'Public order'], inplace = True)\n",
        "df10.drop(df10.index[df10['Crime type'] == 'Criminal damage and arson'], inplace = True)\n",
        "df10.drop(df10.index[df10['Crime type'] == 'Drugs'], inplace = True)\n",
        "df10.drop(df10.index[df10['Crime type'] == 'Other crime'], inplace = True)\n",
        "x=6 # could change x and y to a start and end date\n",
        "y=933\n",
        "df10.loc[x:y]\n",
        "df10.loc[x:y].index\n",
        "df10.drop(df10.loc[x:y].index, inplace=True)\n",
        "print(\"Size of dataset is : \", df10.shape)\n",
        "df10"
      ],
      "execution_count": 201,
      "outputs": [
        {
          "output_type": "stream",
          "text": [
            "Size of dataset is :  (1, 6)\n"
          ],
          "name": "stdout"
        },
        {
          "output_type": "execute_result",
          "data": {
            "text/html": [
              "<div>\n",
              "<style scoped>\n",
              "    .dataframe tbody tr th:only-of-type {\n",
              "        vertical-align: middle;\n",
              "    }\n",
              "\n",
              "    .dataframe tbody tr th {\n",
              "        vertical-align: top;\n",
              "    }\n",
              "\n",
              "    .dataframe thead th {\n",
              "        text-align: right;\n",
              "    }\n",
              "</style>\n",
              "<table border=\"1\" class=\"dataframe\">\n",
              "  <thead>\n",
              "    <tr style=\"text-align: right;\">\n",
              "      <th></th>\n",
              "      <th>Month</th>\n",
              "      <th>Longitude</th>\n",
              "      <th>Latitude</th>\n",
              "      <th>Location</th>\n",
              "      <th>LSOA name</th>\n",
              "      <th>Crime type</th>\n",
              "    </tr>\n",
              "  </thead>\n",
              "  <tbody>\n",
              "    <tr>\n",
              "      <th>4</th>\n",
              "      <td>2019-11</td>\n",
              "      <td>-0.111962</td>\n",
              "      <td>51.518494</td>\n",
              "      <td>On or near Nightclub</td>\n",
              "      <td>Camden 028B</td>\n",
              "      <td>Theft from the person</td>\n",
              "    </tr>\n",
              "  </tbody>\n",
              "</table>\n",
              "</div>"
            ],
            "text/plain": [
              "     Month  Longitude  ...    LSOA name             Crime type\n",
              "4  2019-11  -0.111962  ...  Camden 028B  Theft from the person\n",
              "\n",
              "[1 rows x 6 columns]"
            ]
          },
          "metadata": {
            "tags": []
          },
          "execution_count": 201
        }
      ]
    },
    {
      "cell_type": "code",
      "metadata": {
        "colab": {
          "base_uri": "https://localhost:8080/",
          "height": 131
        },
        "id": "NhVf1yrHyZb9",
        "outputId": "37af3999-3636-4891-aa80-73b68030e110"
      },
      "source": [
        "df11 = pd.read_csv('2019-12-city-of-london-street.csv', encoding='latin1')\n",
        "df11 = df11[df11.Location != \"No Location\"]\n",
        "df11.drop(labels=['Crime ID'], axis=1, inplace=True)\n",
        "df11.drop(labels=['LSOA code'], axis=1, inplace=True)\n",
        "df11.drop(labels=['Context'], axis=1, inplace=True)\n",
        "df11.drop(labels=['Last outcome category'], axis=1, inplace=True)\n",
        "df11.drop(labels=['Falls within'], axis=1, inplace=True)\n",
        "df11.drop(labels=['Reported by'], axis=1, inplace=True)\n",
        "df11.drop(df11.index[df11['Crime type'] == 'Anti-social behaviour'], inplace = True)\n",
        "df11.drop(df11.index[df11['Crime type'] == 'Burglary'], inplace = True)\n",
        "df11.drop(df11.index[df11['Crime type'] == 'Shoplifting'], inplace = True)\n",
        "df11.drop(df11.index[df11['Crime type'] == 'Other theft'], inplace = True)\n",
        "df11.drop(df11.index[df11['Crime type'] == 'Violence and sexual offences'], inplace = True)\n",
        "df11.drop(df11.index[df11['Crime type'] == 'Public order'], inplace = True)\n",
        "df11.drop(df11.index[df11['Crime type'] == 'Criminal damage and arson'], inplace = True)\n",
        "df11.drop(df11.index[df11['Crime type'] == 'Drugs'], inplace = True)\n",
        "df11.drop(df11.index[df11['Crime type'] == 'Other crime'], inplace = True)\n",
        "x=3 # could change x and y to a start and end date\n",
        "y=882\n",
        "df11.loc[x:y]\n",
        "df11.loc[x:y].index\n",
        "df11.drop(df11.loc[x:y].index, inplace=True)\n",
        "print(\"Size of dataset is : \", df11.shape)\n",
        "df11"
      ],
      "execution_count": 202,
      "outputs": [
        {
          "output_type": "stream",
          "text": [
            "Size of dataset is :  (1, 6)\n"
          ],
          "name": "stdout"
        },
        {
          "output_type": "execute_result",
          "data": {
            "text/html": [
              "<div>\n",
              "<style scoped>\n",
              "    .dataframe tbody tr th:only-of-type {\n",
              "        vertical-align: middle;\n",
              "    }\n",
              "\n",
              "    .dataframe tbody tr th {\n",
              "        vertical-align: top;\n",
              "    }\n",
              "\n",
              "    .dataframe thead th {\n",
              "        text-align: right;\n",
              "    }\n",
              "</style>\n",
              "<table border=\"1\" class=\"dataframe\">\n",
              "  <thead>\n",
              "    <tr style=\"text-align: right;\">\n",
              "      <th></th>\n",
              "      <th>Month</th>\n",
              "      <th>Longitude</th>\n",
              "      <th>Latitude</th>\n",
              "      <th>Location</th>\n",
              "      <th>LSOA name</th>\n",
              "      <th>Crime type</th>\n",
              "    </tr>\n",
              "  </thead>\n",
              "  <tbody>\n",
              "    <tr>\n",
              "      <th>1</th>\n",
              "      <td>2019-12</td>\n",
              "      <td>-0.111497</td>\n",
              "      <td>51.518226</td>\n",
              "      <td>On or near Pedestrian Subway</td>\n",
              "      <td>Camden 028B</td>\n",
              "      <td>Theft from the person</td>\n",
              "    </tr>\n",
              "  </tbody>\n",
              "</table>\n",
              "</div>"
            ],
            "text/plain": [
              "     Month  Longitude  ...    LSOA name             Crime type\n",
              "1  2019-12  -0.111497  ...  Camden 028B  Theft from the person\n",
              "\n",
              "[1 rows x 6 columns]"
            ]
          },
          "metadata": {
            "tags": []
          },
          "execution_count": 202
        }
      ]
    },
    {
      "cell_type": "code",
      "metadata": {
        "colab": {
          "base_uri": "https://localhost:8080/",
          "height": 131
        },
        "id": "xEy4cYqLyiwU",
        "outputId": "5ad3fe87-4512-48d4-f9d3-2f7e3b40f333"
      },
      "source": [
        "df12 = pd.read_csv('2020-01-city-of-london-street.csv', encoding='latin1')\n",
        "df12= df12[df12.Location != \"No Location\"]\n",
        "df12.drop(labels=['Crime ID'], axis=1, inplace=True)\n",
        "df12.drop(labels=['LSOA code'], axis=1, inplace=True)\n",
        "df12.drop(labels=['Context'], axis=1, inplace=True)\n",
        "df12.drop(labels=['Last outcome category'], axis=1, inplace=True)\n",
        "df12.drop(labels=['Falls within'], axis=1, inplace=True)\n",
        "df12.drop(labels=['Reported by'], axis=1, inplace=True)\n",
        "df12.drop(df12.index[df12['Crime type'] == 'Anti-social behaviour'], inplace = True)\n",
        "df12.drop(df12.index[df12['Crime type'] == 'Burglary'], inplace = True)\n",
        "df12.drop(df12.index[df12['Crime type'] == 'Shoplifting'], inplace = True)\n",
        "df12.drop(df12.index[df12['Crime type'] == 'Other theft'], inplace = True)\n",
        "df12.drop(df12.index[df12['Crime type'] == 'Violence and sexual offences'], inplace = True)\n",
        "df12.drop(df12.index[df12['Crime type'] == 'Public order'], inplace = True)\n",
        "df12.drop(df12.index[df12['Crime type'] == 'Criminal damage and arson'], inplace = True)\n",
        "df12.drop(df12.index[df12['Crime type'] == 'Drugs'], inplace = True)\n",
        "df12.drop(df12.index[df12['Crime type'] == 'Other crime'], inplace = True)\n",
        "x=3 # could change x and y to a start and end date\n",
        "y=797\n",
        "df12.loc[x:y]\n",
        "df12.loc[x:y].index\n",
        "df12.drop(df12.loc[x:y].index, inplace=True)\n",
        "print(\"Size of dataset is : \", df12.shape)\n",
        "df12"
      ],
      "execution_count": 203,
      "outputs": [
        {
          "output_type": "stream",
          "text": [
            "Size of dataset is :  (1, 6)\n"
          ],
          "name": "stdout"
        },
        {
          "output_type": "execute_result",
          "data": {
            "text/html": [
              "<div>\n",
              "<style scoped>\n",
              "    .dataframe tbody tr th:only-of-type {\n",
              "        vertical-align: middle;\n",
              "    }\n",
              "\n",
              "    .dataframe tbody tr th {\n",
              "        vertical-align: top;\n",
              "    }\n",
              "\n",
              "    .dataframe thead th {\n",
              "        text-align: right;\n",
              "    }\n",
              "</style>\n",
              "<table border=\"1\" class=\"dataframe\">\n",
              "  <thead>\n",
              "    <tr style=\"text-align: right;\">\n",
              "      <th></th>\n",
              "      <th>Month</th>\n",
              "      <th>Longitude</th>\n",
              "      <th>Latitude</th>\n",
              "      <th>Location</th>\n",
              "      <th>LSOA name</th>\n",
              "      <th>Crime type</th>\n",
              "    </tr>\n",
              "  </thead>\n",
              "  <tbody>\n",
              "    <tr>\n",
              "      <th>0</th>\n",
              "      <td>2020-01</td>\n",
              "      <td>-0.106453</td>\n",
              "      <td>51.518207</td>\n",
              "      <td>On or near Charterhouse Street</td>\n",
              "      <td>Camden 027B</td>\n",
              "      <td>Theft from the person</td>\n",
              "    </tr>\n",
              "  </tbody>\n",
              "</table>\n",
              "</div>"
            ],
            "text/plain": [
              "     Month  Longitude  ...    LSOA name             Crime type\n",
              "0  2020-01  -0.106453  ...  Camden 027B  Theft from the person\n",
              "\n",
              "[1 rows x 6 columns]"
            ]
          },
          "metadata": {
            "tags": []
          },
          "execution_count": 203
        }
      ]
    },
    {
      "cell_type": "code",
      "metadata": {
        "colab": {
          "base_uri": "https://localhost:8080/",
          "height": 131
        },
        "id": "elAonL1gysj1",
        "outputId": "4c53b784-e96e-45e4-b5e9-2cda77771ccb"
      },
      "source": [
        "df13 = pd.read_csv('2020-02-city-of-london-street.csv', encoding='latin1')\n",
        "df13 = df13[df13.Location != \"No Location\"]\n",
        "df13.drop(labels=['Crime ID'], axis=1, inplace=True)\n",
        "df13.drop(labels=['LSOA code'], axis=1, inplace=True)\n",
        "df13.drop(labels=['Context'], axis=1, inplace=True)\n",
        "df13.drop(labels=['Last outcome category'], axis=1, inplace=True)\n",
        "df13.drop(labels=['Falls within'], axis=1, inplace=True)\n",
        "df13.drop(labels=['Reported by'], axis=1, inplace=True)\n",
        "df13.drop(df13.index[df13['Crime type'] == 'Anti-social behaviour'], inplace = True)\n",
        "df13.drop(df13.index[df13['Crime type'] == 'Burglary'], inplace = True)\n",
        "df13.drop(df13.index[df13['Crime type'] == 'Shoplifting'], inplace = True)\n",
        "df13.drop(df13.index[df13['Crime type'] == 'Other theft'], inplace = True)\n",
        "df13.drop(df13.index[df13['Crime type'] == 'Violence and sexual offences'], inplace = True)\n",
        "df13.drop(df13.index[df13['Crime type'] == 'Public order'], inplace = True)\n",
        "df13.drop(df13.index[df13['Crime type'] == 'Criminal damage and arson'], inplace = True)\n",
        "df13.drop(df13.index[df13['Crime type'] == 'Drugs'], inplace = True)\n",
        "df13.drop(df13.index[df13['Crime type'] == 'Other crime'], inplace = True)\n",
        "x=6 # could change x and y to a start and end date\n",
        "y=763\n",
        "df13.loc[x:y]\n",
        "df13.loc[x:y].index\n",
        "df13.drop(df13.loc[x:y].index, inplace=True)\n",
        "print(\"Size of dataset is : \", df13.shape)\n",
        "df13"
      ],
      "execution_count": 204,
      "outputs": [
        {
          "output_type": "stream",
          "text": [
            "Size of dataset is :  (1, 6)\n"
          ],
          "name": "stdout"
        },
        {
          "output_type": "execute_result",
          "data": {
            "text/html": [
              "<div>\n",
              "<style scoped>\n",
              "    .dataframe tbody tr th:only-of-type {\n",
              "        vertical-align: middle;\n",
              "    }\n",
              "\n",
              "    .dataframe tbody tr th {\n",
              "        vertical-align: top;\n",
              "    }\n",
              "\n",
              "    .dataframe thead th {\n",
              "        text-align: right;\n",
              "    }\n",
              "</style>\n",
              "<table border=\"1\" class=\"dataframe\">\n",
              "  <thead>\n",
              "    <tr style=\"text-align: right;\">\n",
              "      <th></th>\n",
              "      <th>Month</th>\n",
              "      <th>Longitude</th>\n",
              "      <th>Latitude</th>\n",
              "      <th>Location</th>\n",
              "      <th>LSOA name</th>\n",
              "      <th>Crime type</th>\n",
              "    </tr>\n",
              "  </thead>\n",
              "  <tbody>\n",
              "    <tr>\n",
              "      <th>3</th>\n",
              "      <td>2020-02</td>\n",
              "      <td>-0.111497</td>\n",
              "      <td>51.518226</td>\n",
              "      <td>On or near Pedestrian Subway</td>\n",
              "      <td>Camden 028B</td>\n",
              "      <td>Theft from the person</td>\n",
              "    </tr>\n",
              "  </tbody>\n",
              "</table>\n",
              "</div>"
            ],
            "text/plain": [
              "     Month  Longitude  ...    LSOA name             Crime type\n",
              "3  2020-02  -0.111497  ...  Camden 028B  Theft from the person\n",
              "\n",
              "[1 rows x 6 columns]"
            ]
          },
          "metadata": {
            "tags": []
          },
          "execution_count": 204
        }
      ]
    },
    {
      "cell_type": "code",
      "metadata": {
        "colab": {
          "base_uri": "https://localhost:8080/",
          "height": 131
        },
        "id": "ak4eqp4Ey6dL",
        "outputId": "da12136e-40ef-40e6-f050-e65dba831550"
      },
      "source": [
        "df14 = pd.read_csv('2020-03-city-of-london-street.csv', encoding='latin1')\n",
        "df14 = df14[df14.Location != \"No Location\"]\n",
        "df14.drop(labels=['Crime ID'], axis=1, inplace=True)\n",
        "df14.drop(labels=['LSOA code'], axis=1, inplace=True)\n",
        "df14.drop(labels=['Context'], axis=1, inplace=True)\n",
        "df14.drop(labels=['Last outcome category'], axis=1, inplace=True)\n",
        "df14.drop(labels=['Falls within'], axis=1, inplace=True)\n",
        "df14.drop(labels=['Reported by'], axis=1, inplace=True)\n",
        "df14.drop(df14.index[df14['Crime type'] == 'Anti-social behaviour'], inplace = True)\n",
        "df14.drop(df14.index[df14['Crime type'] == 'Burglary'], inplace = True)\n",
        "df14.drop(df14.index[df14['Crime type'] == 'Shoplifting'], inplace = True)\n",
        "df14.drop(df14.index[df14['Crime type'] == 'Other theft'], inplace = True)\n",
        "df14.drop(df14.index[df14['Crime type'] == 'Violence and sexual offences'], inplace = True)\n",
        "df14.drop(df14.index[df14['Crime type'] == 'Public order'], inplace = True)\n",
        "df14.drop(df14.index[df14['Crime type'] == 'Criminal damage and arson'], inplace = True)\n",
        "df14.drop(df14.index[df14['Crime type'] == 'Drugs'], inplace = True)\n",
        "df14.drop(df14.index[df14['Crime type'] == 'Other crime'], inplace = True)\n",
        "x=5 # could change x and y to a start and end date\n",
        "y=605\n",
        "df14.loc[x:y]\n",
        "df14.loc[x:y].index\n",
        "df14.drop(df14.loc[x:y].index, inplace=True)\n",
        "print(\"Size of dataset is : \", df14.shape)\n",
        "df14"
      ],
      "execution_count": 205,
      "outputs": [
        {
          "output_type": "stream",
          "text": [
            "Size of dataset is :  (1, 6)\n"
          ],
          "name": "stdout"
        },
        {
          "output_type": "execute_result",
          "data": {
            "text/html": [
              "<div>\n",
              "<style scoped>\n",
              "    .dataframe tbody tr th:only-of-type {\n",
              "        vertical-align: middle;\n",
              "    }\n",
              "\n",
              "    .dataframe tbody tr th {\n",
              "        vertical-align: top;\n",
              "    }\n",
              "\n",
              "    .dataframe thead th {\n",
              "        text-align: right;\n",
              "    }\n",
              "</style>\n",
              "<table border=\"1\" class=\"dataframe\">\n",
              "  <thead>\n",
              "    <tr style=\"text-align: right;\">\n",
              "      <th></th>\n",
              "      <th>Month</th>\n",
              "      <th>Longitude</th>\n",
              "      <th>Latitude</th>\n",
              "      <th>Location</th>\n",
              "      <th>LSOA name</th>\n",
              "      <th>Crime type</th>\n",
              "    </tr>\n",
              "  </thead>\n",
              "  <tbody>\n",
              "    <tr>\n",
              "      <th>4</th>\n",
              "      <td>2020-03</td>\n",
              "      <td>-0.111497</td>\n",
              "      <td>51.518226</td>\n",
              "      <td>On or near Pedestrian Subway</td>\n",
              "      <td>Camden 028B</td>\n",
              "      <td>Theft from the person</td>\n",
              "    </tr>\n",
              "  </tbody>\n",
              "</table>\n",
              "</div>"
            ],
            "text/plain": [
              "     Month  Longitude  ...    LSOA name             Crime type\n",
              "4  2020-03  -0.111497  ...  Camden 028B  Theft from the person\n",
              "\n",
              "[1 rows x 6 columns]"
            ]
          },
          "metadata": {
            "tags": []
          },
          "execution_count": 205
        }
      ]
    },
    {
      "cell_type": "code",
      "metadata": {
        "colab": {
          "base_uri": "https://localhost:8080/",
          "height": 114
        },
        "id": "jEWvo9ahzXfp",
        "outputId": "7a392ea8-9fa9-4ca3-b996-d5e153bb47c7"
      },
      "source": [
        "df15 = pd.read_csv('2020-05-city-of-london-street.csv', encoding='latin1')\n",
        "df15 = df15[df15.Location != \"No Location\"]\n",
        "df15.drop(labels=['Crime ID'], axis=1, inplace=True)\n",
        "df15.drop(labels=['LSOA code'], axis=1, inplace=True)\n",
        "df15.drop(labels=['Context'], axis=1, inplace=True)\n",
        "df15.drop(labels=['Last outcome category'], axis=1, inplace=True)\n",
        "df15.drop(labels=['Falls within'], axis=1, inplace=True)\n",
        "df15.drop(labels=['Reported by'], axis=1, inplace=True)\n",
        "df15.drop(df15.index[df15['Crime type'] == 'Anti-social behaviour'], inplace = True)\n",
        "df15.drop(df15.index[df15['Crime type'] == 'Burglary'], inplace = True)\n",
        "df15.drop(df15.index[df15['Crime type'] == 'Shoplifting'], inplace = True)\n",
        "df15.drop(df15.index[df15['Crime type'] == 'Other theft'], inplace = True)\n",
        "df15.drop(df15.index[df15['Crime type'] == 'Violence and sexual offences'], inplace = True)\n",
        "df15.drop(df15.index[df15['Crime type'] == 'Public order'], inplace = True)\n",
        "df15.drop(df15.index[df15['Crime type'] == 'Criminal damage and arson'], inplace = True)\n",
        "df15.drop(df15.index[df15['Crime type'] == 'Drugs'], inplace = True)\n",
        "df15.drop(df15.index[df15['Crime type'] == 'Other crime'], inplace = True)\n",
        "x=2 # could change x and y to a start and end date\n",
        "y=226\n",
        "df15.loc[x:y]\n",
        "df15.loc[x:y].index\n",
        "df15.drop(df15.loc[x:y].index, inplace=True)\n",
        "print(\"Size of dataset is : \", df15.shape)\n",
        "df15"
      ],
      "execution_count": 206,
      "outputs": [
        {
          "output_type": "stream",
          "text": [
            "Size of dataset is :  (1, 6)\n"
          ],
          "name": "stdout"
        },
        {
          "output_type": "execute_result",
          "data": {
            "text/html": [
              "<div>\n",
              "<style scoped>\n",
              "    .dataframe tbody tr th:only-of-type {\n",
              "        vertical-align: middle;\n",
              "    }\n",
              "\n",
              "    .dataframe tbody tr th {\n",
              "        vertical-align: top;\n",
              "    }\n",
              "\n",
              "    .dataframe thead th {\n",
              "        text-align: right;\n",
              "    }\n",
              "</style>\n",
              "<table border=\"1\" class=\"dataframe\">\n",
              "  <thead>\n",
              "    <tr style=\"text-align: right;\">\n",
              "      <th></th>\n",
              "      <th>Month</th>\n",
              "      <th>Longitude</th>\n",
              "      <th>Latitude</th>\n",
              "      <th>Location</th>\n",
              "      <th>LSOA name</th>\n",
              "      <th>Crime type</th>\n",
              "    </tr>\n",
              "  </thead>\n",
              "  <tbody>\n",
              "    <tr>\n",
              "      <th>0</th>\n",
              "      <td>2020-05</td>\n",
              "      <td>-0.111962</td>\n",
              "      <td>51.518494</td>\n",
              "      <td>On or near Nightclub</td>\n",
              "      <td>Camden 028B</td>\n",
              "      <td>Theft from the person</td>\n",
              "    </tr>\n",
              "  </tbody>\n",
              "</table>\n",
              "</div>"
            ],
            "text/plain": [
              "     Month  Longitude  ...    LSOA name             Crime type\n",
              "0  2020-05  -0.111962  ...  Camden 028B  Theft from the person\n",
              "\n",
              "[1 rows x 6 columns]"
            ]
          },
          "metadata": {
            "tags": []
          },
          "execution_count": 206
        }
      ]
    },
    {
      "cell_type": "code",
      "metadata": {
        "colab": {
          "base_uri": "https://localhost:8080/",
          "height": 131
        },
        "id": "nyv4YKlZzl4B",
        "outputId": "06864b07-07fb-47e1-8446-6661926eda6e"
      },
      "source": [
        "df16 = pd.read_csv('2020-06-city-of-london-street.csv', encoding='latin1')\n",
        "df16 = df16[df16.Location != \"No Location\"]\n",
        "df16.drop(labels=['Crime ID'], axis=1, inplace=True)\n",
        "df16.drop(labels=['LSOA code'], axis=1, inplace=True)\n",
        "df16.drop(labels=['Context'], axis=1, inplace=True)\n",
        "df16.drop(labels=['Last outcome category'], axis=1, inplace=True)\n",
        "df16.drop(labels=['Falls within'], axis=1, inplace=True)\n",
        "df16.drop(labels=['Reported by'], axis=1, inplace=True)\n",
        "df16.drop(df16.index[df16['Crime type'] == 'Anti-social behaviour'], inplace = True)\n",
        "df16.drop(df16.index[df16['Crime type'] == 'Burglary'], inplace = True)\n",
        "df16.drop(df16.index[df16['Crime type'] == 'Shoplifting'], inplace = True)\n",
        "df16.drop(df16.index[df16['Crime type'] == 'Other theft'], inplace = True)\n",
        "df16.drop(df16.index[df16['Crime type'] == 'Violence and sexual offences'], inplace = True)\n",
        "df16.drop(df16.index[df16['Crime type'] == 'Public order'], inplace = True)\n",
        "df16.drop(df16.index[df16['Crime type'] == 'Criminal damage and arson'], inplace = True)\n",
        "df16.drop(df16.index[df16['Crime type'] == 'Drugs'], inplace = True)\n",
        "df16.drop(df16.index[df16['Crime type'] == 'Other crime'], inplace = True)\n",
        "x=3 # could change x and y to a start and end date\n",
        "y=323\n",
        "df16.loc[x:y]\n",
        "df16.loc[x:y].index\n",
        "df16.drop(df16.loc[x:y].index, inplace=True)\n",
        "print(\"Size of dataset is : \", df16.shape)\n",
        "df16"
      ],
      "execution_count": 207,
      "outputs": [
        {
          "output_type": "stream",
          "text": [
            "Size of dataset is :  (1, 6)\n"
          ],
          "name": "stdout"
        },
        {
          "output_type": "execute_result",
          "data": {
            "text/html": [
              "<div>\n",
              "<style scoped>\n",
              "    .dataframe tbody tr th:only-of-type {\n",
              "        vertical-align: middle;\n",
              "    }\n",
              "\n",
              "    .dataframe tbody tr th {\n",
              "        vertical-align: top;\n",
              "    }\n",
              "\n",
              "    .dataframe thead th {\n",
              "        text-align: right;\n",
              "    }\n",
              "</style>\n",
              "<table border=\"1\" class=\"dataframe\">\n",
              "  <thead>\n",
              "    <tr style=\"text-align: right;\">\n",
              "      <th></th>\n",
              "      <th>Month</th>\n",
              "      <th>Longitude</th>\n",
              "      <th>Latitude</th>\n",
              "      <th>Location</th>\n",
              "      <th>LSOA name</th>\n",
              "      <th>Crime type</th>\n",
              "    </tr>\n",
              "  </thead>\n",
              "  <tbody>\n",
              "    <tr>\n",
              "      <th>1</th>\n",
              "      <td>2020-06</td>\n",
              "      <td>-0.106453</td>\n",
              "      <td>51.518207</td>\n",
              "      <td>On or near Charterhouse Street</td>\n",
              "      <td>Camden 027B</td>\n",
              "      <td>Theft from the person</td>\n",
              "    </tr>\n",
              "  </tbody>\n",
              "</table>\n",
              "</div>"
            ],
            "text/plain": [
              "     Month  Longitude  ...    LSOA name             Crime type\n",
              "1  2020-06  -0.106453  ...  Camden 027B  Theft from the person\n",
              "\n",
              "[1 rows x 6 columns]"
            ]
          },
          "metadata": {
            "tags": []
          },
          "execution_count": 207
        }
      ]
    },
    {
      "cell_type": "code",
      "metadata": {
        "colab": {
          "base_uri": "https://localhost:8080/",
          "height": 131
        },
        "id": "kBQ_7ihQzyTg",
        "outputId": "fb895049-3cc3-4495-fa57-84886d11ad07"
      },
      "source": [
        "df17 = pd.read_csv('2020-08-city-of-london-street.csv', encoding='latin1')\n",
        "df17 = df17[df17.Location != \"No Location\"]\n",
        "df17.drop(labels=['Crime ID'], axis=1, inplace=True)\n",
        "df17.drop(labels=['LSOA code'], axis=1, inplace=True)\n",
        "df17.drop(labels=['Context'], axis=1, inplace=True)\n",
        "df17.drop(labels=['Last outcome category'], axis=1, inplace=True)\n",
        "df17.drop(labels=['Falls within'], axis=1, inplace=True)\n",
        "df17.drop(labels=['Reported by'], axis=1, inplace=True)\n",
        "df17.drop(df17.index[df17['Crime type'] == 'Anti-social behaviour'], inplace = True)\n",
        "df17.drop(df17.index[df17['Crime type'] == 'Burglary'], inplace = True)\n",
        "df17.drop(df17.index[df17['Crime type'] == 'Shoplifting'], inplace = True)\n",
        "df17.drop(df17.index[df17['Crime type'] == 'Other theft'], inplace = True)\n",
        "df17.drop(df17.index[df17['Crime type'] == 'Violence and sexual offences'], inplace = True)\n",
        "df17.drop(df17.index[df17['Crime type'] == 'Public order'], inplace = True)\n",
        "df17.drop(df17.index[df17['Crime type'] == 'Criminal damage and arson'], inplace = True)\n",
        "df17.drop(df17.index[df17['Crime type'] == 'Drugs'], inplace = True)\n",
        "df17.drop(df17.index[df17['Crime type'] == 'Other crime'], inplace = True)\n",
        "x=2 # could change x and y to a start and end date\n",
        "y=505\n",
        "df17.loc[x:y]\n",
        "df17.loc[x:y].index\n",
        "df17.drop(df17.loc[x:y].index, inplace=True)\n",
        "print(\"Size of dataset is : \", df17.shape)\n",
        "df17"
      ],
      "execution_count": 208,
      "outputs": [
        {
          "output_type": "stream",
          "text": [
            "Size of dataset is :  (1, 6)\n"
          ],
          "name": "stdout"
        },
        {
          "output_type": "execute_result",
          "data": {
            "text/html": [
              "<div>\n",
              "<style scoped>\n",
              "    .dataframe tbody tr th:only-of-type {\n",
              "        vertical-align: middle;\n",
              "    }\n",
              "\n",
              "    .dataframe tbody tr th {\n",
              "        vertical-align: top;\n",
              "    }\n",
              "\n",
              "    .dataframe thead th {\n",
              "        text-align: right;\n",
              "    }\n",
              "</style>\n",
              "<table border=\"1\" class=\"dataframe\">\n",
              "  <thead>\n",
              "    <tr style=\"text-align: right;\">\n",
              "      <th></th>\n",
              "      <th>Month</th>\n",
              "      <th>Longitude</th>\n",
              "      <th>Latitude</th>\n",
              "      <th>Location</th>\n",
              "      <th>LSOA name</th>\n",
              "      <th>Crime type</th>\n",
              "    </tr>\n",
              "  </thead>\n",
              "  <tbody>\n",
              "    <tr>\n",
              "      <th>0</th>\n",
              "      <td>2020-08</td>\n",
              "      <td>-0.111497</td>\n",
              "      <td>51.518226</td>\n",
              "      <td>On or near Pedestrian Subway</td>\n",
              "      <td>Camden 028B</td>\n",
              "      <td>Bicycle theft</td>\n",
              "    </tr>\n",
              "  </tbody>\n",
              "</table>\n",
              "</div>"
            ],
            "text/plain": [
              "     Month  Longitude  ...    LSOA name     Crime type\n",
              "0  2020-08  -0.111497  ...  Camden 028B  Bicycle theft\n",
              "\n",
              "[1 rows x 6 columns]"
            ]
          },
          "metadata": {
            "tags": []
          },
          "execution_count": 208
        }
      ]
    },
    {
      "cell_type": "code",
      "metadata": {
        "colab": {
          "base_uri": "https://localhost:8080/",
          "height": 930
        },
        "id": "WPEy2WAM463n",
        "outputId": "006eb1d4-1a2e-4bd0-942a-9d1a478dd0b2"
      },
      "source": [
        "df = pd.concat([df1, df2, df3, df4, df5, df6, df7, df8, df9, df10, df11, df12, df13, df14, df15, df16, df17], ignore_index=True)\n",
        "\n",
        "df"
      ],
      "execution_count": 209,
      "outputs": [
        {
          "output_type": "execute_result",
          "data": {
            "text/html": [
              "<div>\n",
              "<style scoped>\n",
              "    .dataframe tbody tr th:only-of-type {\n",
              "        vertical-align: middle;\n",
              "    }\n",
              "\n",
              "    .dataframe tbody tr th {\n",
              "        vertical-align: top;\n",
              "    }\n",
              "\n",
              "    .dataframe thead th {\n",
              "        text-align: right;\n",
              "    }\n",
              "</style>\n",
              "<table border=\"1\" class=\"dataframe\">\n",
              "  <thead>\n",
              "    <tr style=\"text-align: right;\">\n",
              "      <th></th>\n",
              "      <th>Month</th>\n",
              "      <th>Longitude</th>\n",
              "      <th>Latitude</th>\n",
              "      <th>Location</th>\n",
              "      <th>LSOA name</th>\n",
              "      <th>Crime type</th>\n",
              "    </tr>\n",
              "  </thead>\n",
              "  <tbody>\n",
              "    <tr>\n",
              "      <th>0</th>\n",
              "      <td>2017-11</td>\n",
              "      <td>-0.113256</td>\n",
              "      <td>51.516824</td>\n",
              "      <td>On or near Old Square</td>\n",
              "      <td>Camden 028B</td>\n",
              "      <td>Bicycle theft</td>\n",
              "    </tr>\n",
              "    <tr>\n",
              "      <th>1</th>\n",
              "      <td>2018-01</td>\n",
              "      <td>-0.111962</td>\n",
              "      <td>51.518494</td>\n",
              "      <td>On or near Nightclub</td>\n",
              "      <td>Camden 028B</td>\n",
              "      <td>Theft from the person</td>\n",
              "    </tr>\n",
              "    <tr>\n",
              "      <th>2</th>\n",
              "      <td>2018-01</td>\n",
              "      <td>-0.111497</td>\n",
              "      <td>51.518226</td>\n",
              "      <td>On or near Pedestrian Subway</td>\n",
              "      <td>Camden 028B</td>\n",
              "      <td>Theft from the person</td>\n",
              "    </tr>\n",
              "    <tr>\n",
              "      <th>3</th>\n",
              "      <td>2018-03</td>\n",
              "      <td>-0.111497</td>\n",
              "      <td>51.518226</td>\n",
              "      <td>On or near Pedestrian Subway</td>\n",
              "      <td>Camden 028B</td>\n",
              "      <td>Theft from the person</td>\n",
              "    </tr>\n",
              "    <tr>\n",
              "      <th>4</th>\n",
              "      <td>2018-10</td>\n",
              "      <td>-0.111497</td>\n",
              "      <td>51.518226</td>\n",
              "      <td>On or near Pedestrian Subway</td>\n",
              "      <td>Camden 028B</td>\n",
              "      <td>Bicycle theft</td>\n",
              "    </tr>\n",
              "    <tr>\n",
              "      <th>5</th>\n",
              "      <td>2019-01</td>\n",
              "      <td>-0.112422</td>\n",
              "      <td>51.515381</td>\n",
              "      <td>On or near Star Yard</td>\n",
              "      <td>Camden 028B</td>\n",
              "      <td>Bicycle theft</td>\n",
              "    </tr>\n",
              "    <tr>\n",
              "      <th>6</th>\n",
              "      <td>2019-03</td>\n",
              "      <td>-0.111962</td>\n",
              "      <td>51.518494</td>\n",
              "      <td>On or near Nightclub</td>\n",
              "      <td>Camden 028B</td>\n",
              "      <td>Theft from the person</td>\n",
              "    </tr>\n",
              "    <tr>\n",
              "      <th>7</th>\n",
              "      <td>2019-08</td>\n",
              "      <td>-0.125261</td>\n",
              "      <td>51.521063</td>\n",
              "      <td>On or near Russell Square</td>\n",
              "      <td>Camden 028A</td>\n",
              "      <td>Theft from the person</td>\n",
              "    </tr>\n",
              "    <tr>\n",
              "      <th>8</th>\n",
              "      <td>2019-08</td>\n",
              "      <td>-0.111962</td>\n",
              "      <td>51.518494</td>\n",
              "      <td>On or near Nightclub</td>\n",
              "      <td>Camden 028B</td>\n",
              "      <td>Bicycle theft</td>\n",
              "    </tr>\n",
              "    <tr>\n",
              "      <th>9</th>\n",
              "      <td>2019-09</td>\n",
              "      <td>-0.111962</td>\n",
              "      <td>51.518494</td>\n",
              "      <td>On or near Nightclub</td>\n",
              "      <td>Camden 028B</td>\n",
              "      <td>Theft from the person</td>\n",
              "    </tr>\n",
              "    <tr>\n",
              "      <th>10</th>\n",
              "      <td>2019-11</td>\n",
              "      <td>-0.111962</td>\n",
              "      <td>51.518494</td>\n",
              "      <td>On or near Nightclub</td>\n",
              "      <td>Camden 028B</td>\n",
              "      <td>Theft from the person</td>\n",
              "    </tr>\n",
              "    <tr>\n",
              "      <th>11</th>\n",
              "      <td>2019-12</td>\n",
              "      <td>-0.111497</td>\n",
              "      <td>51.518226</td>\n",
              "      <td>On or near Pedestrian Subway</td>\n",
              "      <td>Camden 028B</td>\n",
              "      <td>Theft from the person</td>\n",
              "    </tr>\n",
              "    <tr>\n",
              "      <th>12</th>\n",
              "      <td>2020-01</td>\n",
              "      <td>-0.106453</td>\n",
              "      <td>51.518207</td>\n",
              "      <td>On or near Charterhouse Street</td>\n",
              "      <td>Camden 027B</td>\n",
              "      <td>Theft from the person</td>\n",
              "    </tr>\n",
              "    <tr>\n",
              "      <th>13</th>\n",
              "      <td>2020-02</td>\n",
              "      <td>-0.111497</td>\n",
              "      <td>51.518226</td>\n",
              "      <td>On or near Pedestrian Subway</td>\n",
              "      <td>Camden 028B</td>\n",
              "      <td>Theft from the person</td>\n",
              "    </tr>\n",
              "    <tr>\n",
              "      <th>14</th>\n",
              "      <td>2020-03</td>\n",
              "      <td>-0.111497</td>\n",
              "      <td>51.518226</td>\n",
              "      <td>On or near Pedestrian Subway</td>\n",
              "      <td>Camden 028B</td>\n",
              "      <td>Theft from the person</td>\n",
              "    </tr>\n",
              "    <tr>\n",
              "      <th>15</th>\n",
              "      <td>2020-05</td>\n",
              "      <td>-0.111962</td>\n",
              "      <td>51.518494</td>\n",
              "      <td>On or near Nightclub</td>\n",
              "      <td>Camden 028B</td>\n",
              "      <td>Theft from the person</td>\n",
              "    </tr>\n",
              "    <tr>\n",
              "      <th>16</th>\n",
              "      <td>2020-06</td>\n",
              "      <td>-0.106453</td>\n",
              "      <td>51.518207</td>\n",
              "      <td>On or near Charterhouse Street</td>\n",
              "      <td>Camden 027B</td>\n",
              "      <td>Theft from the person</td>\n",
              "    </tr>\n",
              "    <tr>\n",
              "      <th>17</th>\n",
              "      <td>2020-08</td>\n",
              "      <td>-0.111497</td>\n",
              "      <td>51.518226</td>\n",
              "      <td>On or near Pedestrian Subway</td>\n",
              "      <td>Camden 028B</td>\n",
              "      <td>Bicycle theft</td>\n",
              "    </tr>\n",
              "  </tbody>\n",
              "</table>\n",
              "</div>"
            ],
            "text/plain": [
              "      Month  Longitude  ...    LSOA name             Crime type\n",
              "0   2017-11  -0.113256  ...  Camden 028B          Bicycle theft\n",
              "1   2018-01  -0.111962  ...  Camden 028B  Theft from the person\n",
              "2   2018-01  -0.111497  ...  Camden 028B  Theft from the person\n",
              "3   2018-03  -0.111497  ...  Camden 028B  Theft from the person\n",
              "4   2018-10  -0.111497  ...  Camden 028B          Bicycle theft\n",
              "5   2019-01  -0.112422  ...  Camden 028B          Bicycle theft\n",
              "6   2019-03  -0.111962  ...  Camden 028B  Theft from the person\n",
              "7   2019-08  -0.125261  ...  Camden 028A  Theft from the person\n",
              "8   2019-08  -0.111962  ...  Camden 028B          Bicycle theft\n",
              "9   2019-09  -0.111962  ...  Camden 028B  Theft from the person\n",
              "10  2019-11  -0.111962  ...  Camden 028B  Theft from the person\n",
              "11  2019-12  -0.111497  ...  Camden 028B  Theft from the person\n",
              "12  2020-01  -0.106453  ...  Camden 027B  Theft from the person\n",
              "13  2020-02  -0.111497  ...  Camden 028B  Theft from the person\n",
              "14  2020-03  -0.111497  ...  Camden 028B  Theft from the person\n",
              "15  2020-05  -0.111962  ...  Camden 028B  Theft from the person\n",
              "16  2020-06  -0.106453  ...  Camden 027B  Theft from the person\n",
              "17  2020-08  -0.111497  ...  Camden 028B          Bicycle theft\n",
              "\n",
              "[18 rows x 6 columns]"
            ]
          },
          "metadata": {
            "tags": []
          },
          "execution_count": 209
        }
      ]
    }
  ]
}